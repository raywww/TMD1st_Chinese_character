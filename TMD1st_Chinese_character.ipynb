{
 "cells": [
  {
   "cell_type": "markdown",
   "metadata": {},
   "source": [
    "# 汉字书法识别挑战\n"
   ]
  },
  {
   "cell_type": "markdown",
   "metadata": {},
   "source": [
    "from [TinyMind第一届汉字书法识别挑战赛](http://www.tinymind.cn/competitions/41)\n",
    "\n",
    "竞赛数据提供100个汉字书法单字，包括碑帖，手写书法，古汉字等等。图片全部为单通道灰度jpg，宽高不定。\n",
    "\n",
    "**训练集**\n",
    "\n",
    "训练集每个汉字400张图片，共计40000张图片，供参赛人员测试和开发参赛算法模型，训练集是标注好的数据，图片按照图片上的文字分类到不同的文件夹中，也就是说文件夹的名字就是文件夹里所有图片的标签。\n",
    "\n",
    "**测试集**\n",
    "\n",
    "每汉字100张图片共10000张图片，在竞赛过程中，供参赛人员测试算法模型使用，开放数据下载但不提供标签。比赛过程中，参赛队伍排名以第一部分数据的结果为准。\n",
    "\n",
    "**提交csv文件**\n",
    "\n",
    "文件第一列是测试集中图片文件的文件名，第二列是参赛队伍推断出来的图片上文字的可能的五个汉字。\n",
    "> csv文件编码统一使用utf8编码"
   ]
  },
  {
   "cell_type": "code",
   "execution_count": 1,
   "metadata": {},
   "outputs": [],
   "source": [
    "import os\n",
    "import cv2\n",
    "import glob\n",
    "\n",
    "import numpy as np\n",
    "import matplotlib.pyplot as plt\n",
    "from pandas import DataFrame\n",
    "from zipfile import ZipFile\n",
    "from os.path import isfile, isdir\n",
    "from datetime import date\n",
    "from tqdm import tqdm\n",
    "from sklearn.preprocessing import LabelBinarizer\n",
    "from sklearn.model_selection import train_test_split\n",
    "from sklearn.metrics import log_loss\n",
    "\n",
    "%matplotlib inline"
   ]
  },
  {
   "cell_type": "code",
   "execution_count": 2,
   "metadata": {},
   "outputs": [
    {
     "name": "stdout",
     "output_type": "stream",
     "text": [
      "All files extracted!\n"
     ]
    }
   ],
   "source": [
    "# 检查文件是否正确下载\n",
    "assert isfile('train.zip'), \"No files: train.zip\"\n",
    "assert isfile('test1.zip'), \"No files: test1.zip\"\n",
    "\n",
    "# 解压文件\n",
    "if not isdir('train'):\n",
    "    with ZipFile('train.zip', 'r') as zipf:\n",
    "        for name in tqdm(zipf.namelist(), desc='Extract train_set', unit='files'):\n",
    "            zipf.extract(name)\n",
    "        zipf.close()\n",
    "\n",
    "if not isdir('test1'):\n",
    "    with ZipFile('test1.zip', 'r') as zipf:\n",
    "        for name in tqdm(zipf.namelist(), desc='Extract test_set', unit='files'):\n",
    "            zipf.extract(name)\n",
    "        zipf.close()\n",
    "\n",
    "print(\"All files extracted!\")"
   ]
  },
  {
   "cell_type": "code",
   "execution_count": 3,
   "metadata": {},
   "outputs": [
    {
     "name": "stdout",
     "output_type": "stream",
     "text": [
      "shape:  (128, 153)\n"
     ]
    },
    {
     "data": {
      "image/png": "[encoded data removed]",
      "text/plain": [
       "<Figure size 432x288 with 1 Axes>"
      ]
     },
     "metadata": {},
     "output_type": "display_data"
    }
   ],
   "source": [
    "path_eg = './train/白/00801816ca06bdf0b07e56ddfa6c029eeda49dfc.jpg'\n",
    "\n",
    "image_eg = cv2.imdecode(np.fromfile(path_eg, dtype=np.uint8), 0)\n",
    "\n",
    "print('shape: ', image_eg.shape)\n",
    "plt.imshow(image_eg, cmap='gray')\n",
    "plt.show()"
   ]
  },
  {
   "cell_type": "markdown",
   "metadata": {},
   "source": [
    "## 提取数据\n",
    "\n",
    "### 训练集\n",
    "提取train文件夹中的数据，生成对应的标签，并对标签进行独热编码。"
   ]
  },
  {
   "cell_type": "code",
   "execution_count": 3,
   "metadata": {},
   "outputs": [],
   "source": [
    "# 建立缓存文件夹和提交文件夹\n",
    "if not isdir('cache'):\n",
    "    os.mkdir('cache')\n",
    "if not isdir('submission'):\n",
    "    os.mkdir('submission')"
   ]
  },
  {
   "cell_type": "code",
   "execution_count": 2,
   "metadata": {},
   "outputs": [
    {
     "data": {
      "text/plain": [
       "LabelBinarizer(neg_label=0, pos_label=1, sparse_output=False)"
      ]
     },
     "execution_count": 2,
     "metadata": {},
     "output_type": "execute_result"
    }
   ],
   "source": [
    "is_test = 0\n",
    "random_seed = 2018\n",
    "\n",
    "label_char = os.listdir('./train/')\n",
    "encode_label = LabelBinarizer()\n",
    "encode_label.fit(label_char)"
   ]
  },
  {
   "cell_type": "code",
   "execution_count": 5,
   "metadata": {},
   "outputs": [
    {
     "name": "stdout",
     "output_type": "stream",
     "text": [
      "class_num:  100\n"
     ]
    }
   ],
   "source": [
    "class_num = len(label_char)\n",
    "print('class_num: ', class_num)"
   ]
  },
  {
   "cell_type": "code",
   "execution_count": 3,
   "metadata": {},
   "outputs": [],
   "source": [
    "# 将图片以 np.uint8 格式存储\n",
    "def get_img(file_path, img_rows, img_cols):\n",
    "    if ('test1' in file_path):\n",
    "        image = cv2.imread(file_path, 0)\n",
    "    else:    # 如果有中文路径\n",
    "        image = cv2.imdecode(np.fromfile(file_path, dtype=np.uint8), 0)\n",
    "    \n",
    "    image = cv2.cvtColor(image, cv2.COLOR_GRAY2RGB)\n",
    "    image = cv2.resize(image, (img_rows, img_cols))\n",
    "    feature = np.array(image, dtype=np.uint8)\n",
    "    \n",
    "    return feature"
   ]
  },
  {
   "cell_type": "code",
   "execution_count": 7,
   "metadata": {},
   "outputs": [],
   "source": [
    "def load_train_data(train_path, img_rows, img_cols, test_size=0.2):\n",
    "    x_train = []\n",
    "    y_train = []\n",
    "    \n",
    "    dirs = os.listdir(train_path)\n",
    "    dirs_pbar = tqdm(dirs, desc='load train images', total=len(dirs))     #######################\n",
    "    for dir_name in dirs_pbar:             \n",
    "        path = train_path + '/' + dir_name\n",
    "        for img_name in os.listdir(path):\n",
    "            feature = get_img(path+'/'+img_name, img_rows, img_cols)\n",
    "            label = dir_name\n",
    "            \n",
    "            x_train.append(feature)\n",
    "            y_train.append(label)\n",
    "    \n",
    "    # 对标签独热编码\n",
    "    y_train = np.array(encode_label.transform(y_train), dtype=np.uint8)\n",
    "    \n",
    "    # 对训练集随机打乱，并划分训练集和验证集\n",
    "    x_train = np.array(x_train, dtype=np.uint8)\n",
    "    x_train, x_test, y_train, y_test = train_test_split(x_train, y_train, \n",
    "                                                        test_size=0.2, \n",
    "                                                        random_state=random_seed)\n",
    "    return x_train, x_test, y_train, y_test"
   ]
  },
  {
   "cell_type": "code",
   "execution_count": 17,
   "metadata": {},
   "outputs": [],
   "source": [
    "# 加载测试集数据\n",
    "def load_test_data(test_path, img_rows, img_cols):\n",
    "    print('load test data...')\n",
    "    path = os.path.join(test_path, '*.jpg')\n",
    "    files = glob.glob(path)\n",
    "    files_pbar = tqdm(files, desc='load test images', total=len(files))  #########\n",
    "    \n",
    "    x_test = np.zeros((len(files), img_rows, img_cols, 3), dtype=np.uint8)  #########\n",
    "    x_test_id = []\n",
    "    for i,file in enumerate(files_pbar):\n",
    "        file_name = os.path.basename(file)\n",
    "        feature = get_img(file, img_rows, img_cols)\n",
    "        x_test[i] = feature\n",
    "        x_test_id.append(file_name)\n",
    "        \n",
    "    print(\"test data loaded!\")\n",
    "    \n",
    "    return x_test, x_test_id"
   ]
  },
  {
   "cell_type": "code",
   "execution_count": 10,
   "metadata": {},
   "outputs": [],
   "source": [
    "# fine-tune 模型\n",
    "def fine_tune_model(MODEL, img_rows, img_cols, optimizer, batch_size, epochs, freeze_num):\n",
    "    '''\n",
    "    discription: 对指定预训练模型进行fine-tune，并保存为.hdf5格式\n",
    "    \n",
    "    MODEL：传入的模型，VGG16， ResNet50, ...\n",
    "    img_rows, img_cols：图片缩放后的大小\n",
    "    optimizer: fine-tune all layers 的优化器, first part默认用adadelta\n",
    "    batch_size: 每一批的尺寸，建议32/64/128\n",
    "    epochs: fine-tune all layers的代数\n",
    "    freeze_num: first part冻结卷积层的数量\n",
    "    '''\n",
    "    train_path = './train'\n",
    "    model = MODEL(img_rows, img_cols)\n",
    "    \n",
    "    x_train, x_val, y_train, y_val = load_train_data(train_path, img_rows, img_cols, test_size=0.2)\n",
    "    \n",
    "    # 展示数据集的基本情况\n",
    "    print('x_train shape: ', x_train.shape)\n",
    "    print('y_train shape: ', y_train.shape)\n",
    "    print('x_val shape: ', x_val.shape)\n",
    "    print('y_val shape: ', y_val.shape)\n",
    "\n",
    "    # first: 仅训练全连接层（权重随机初始化的）\n",
    "    # 冻结所有卷积层\n",
    "    for layer in model.layers[:freeze_num]:\n",
    "        layer.trainable = False\n",
    "    model.compile(optimizer='adadelta', loss='categorical_crossentropy',\n",
    "                      metrics=['accuracy'])\n",
    "    model.fit(x=x_train, y=y_train, batch_size=batch_size, epochs=2, shuffle=True, \n",
    "              verbose=1, validation_data=(x_val, y_val))\n",
    "    print('Finish step_1')\n",
    "    \n",
    "    # second: fine-tune all layers\n",
    "    for layer in model.layers[:]:\n",
    "        layer.trainable = True\n",
    "    es = EarlyStopping(monitor='val_loss', patience=4)\n",
    "    model_name = model.name + '-' + str(date.today()) + '.hdf5'\n",
    "    mc = ModelCheckpoint(os.path.join('cache', model_name), monitor='val_loss', \n",
    "                         save_best_only=True, mode='min')\n",
    "    model.compile(optimizer=optimizer, loss='categorical_crossentropy', metrics=['accuracy'])\n",
    "    history_fit = model.fit(x=x_train, y=y_train, batch_size=batch_size, epochs=epochs, \n",
    "                           shuffle=True, verbose=1, validation_data=(x_val, y_val),\n",
    "                           callbacks=[es, mc])\n",
    "    print('Finish fine-tune')\n",
    "    \n",
    "    #展示fine-tune过程中的loss和accuracy变化曲线\n",
    "    history_plot(history_fit)\n",
    "    \n",
    "    # 预测\n",
    "    pred_val = model.predict(x_val, batch_size=batch_size, verbose=1)\n",
    "    score_val = log_loss(y_val, pred_val)\n",
    "    print('Final log_loss: {}, epochs: {}'.format(score_val, epochs))"
   ]
  },
  {
   "cell_type": "code",
   "execution_count": null,
   "metadata": {},
   "outputs": [],
   "source": [
    "# 加载保存的模型，继续fine-tune\n",
    "def train_from_checkpoint(img_rows, img_cols, model_str, checkpoint_name, optimizer, batch_size, epochs):\n",
    "    '''\n",
    "    discription: 加载保存的模型，继续fine-tune，将更新的结果保存为.hdf5格式\n",
    "    \n",
    "    img_rows, img_cols：图片缩放后的大小\n",
    "    optimizer: fine-tune all layers 的优化器, first part默认用adadelta\n",
    "    batch_size: 每一批的尺寸，建议32/64/128\n",
    "    epochs: fine-tune all layers的代数\n",
    "\n",
    "    '''\n",
    "    train_path = './train'\n",
    "    custom_objects = {'preprocess_input': imagenet_utils.preprocess_input,\n",
    "                      '_preprocess_symbolic_input': imagenet_utils._preprocess_symbolic_input}\n",
    "    model = load_model(os.path.join('cache', checkpoint_name), custom_objects=custom_objects)\n",
    "    \n",
    "    x_train, x_val, y_train, y_val = load_train_data(train_path, img_rows, img_cols, test_size=0.2)\n",
    "    \n",
    "    # 展示数据集的基本情况\n",
    "    print('x_train shape: ', x_train.shape)\n",
    "    print('y_train shape: ', y_train.shape)\n",
    "    print('x_val shape: ', x_val.shape)\n",
    "    print('y_val shape: ', y_val.shape)\n",
    "\n",
    "    # fine-tune all layers\n",
    "    es = EarlyStopping(monitor='val_loss', patience=4)\n",
    "    model_name = model.name + '-retrain-' + str(date.today()) + '.hdf5'\n",
    "    mc = ModelCheckpoint(os.path.join('cache', model_name), monitor='val_loss', \n",
    "                         save_best_only=True, mode='min')\n",
    "    model.compile(optimizer=optimizer, loss='categorical_crossentropy', metrics=['accuracy'])\n",
    "    history_fit = model.fit(x=x_train, y=y_train, batch_size=batch_size, epochs=epochs, \n",
    "                           shuffle=True, verbose=1, validation_data=(x_val, y_val),\n",
    "                           callbacks=[es, mc])\n",
    "    print('Finish fine-tune')\n",
    "    \n",
    "    # 展示fine-tune过程中的loss和accuracy变化曲线\n",
    "    history_plot(history_fit)\n",
    "    \n",
    "    # 预测\n",
    "    pred_val = model.predict(x_val, batch_size=batch_size, verbose=1)\n",
    "    score_val = log_loss(y_val, pred_val)\n",
    "    print('Final log_loss: {}, epochs: {}'.format(score_val, epochs))"
   ]
  },
  {
   "cell_type": "code",
   "execution_count": 14,
   "metadata": {},
   "outputs": [],
   "source": [
    "def test_predict_and_submit(img_rows, img_cols, model_str, model_name, epochs):\n",
    "    test_path = './test1'\n",
    "    \n",
    "    test_data, test_id = load_test_data(test_path, img_rows, img_cols)\n",
    "    \n",
    "    custom_objects = {'preprocess_input': imagenet_utils.preprocess_input,\n",
    "                          '_preprocess_symbolic_input': imagenet_utils._preprocess_symbolic_input}\n",
    "    model = load_model(os.path.join('cache', model_name), custom_objects=custom_objects)\n",
    "    test_pred = model.predict(test_data, batch_size=32, verbose=1)\n",
    "    info_string = 'loss_' + model_str + '_r_' + str(img_rows) + '_c_'\\\n",
    "                  + str(img_cols) + '_ep_' + str(epochs)\n",
    "    \n",
    "    # 将结果写入 .csv 文件中\n",
    "    create_submission(test_pred, test_id, info_string)\n",
    "    \n",
    "    print(\"Finish!\")\n",
    "    "
   ]
  },
  {
   "cell_type": "code",
   "execution_count": 12,
   "metadata": {},
   "outputs": [],
   "source": [
    "# 绘制训练过程中的 loss 和 acc 变化曲线\n",
    "def history_plot(history_fit):\n",
    "    plt.figure(figsize=(12,6))\n",
    "    \n",
    "    # summarize history for accuracy\n",
    "    plt.subplot(121)\n",
    "    plt.plot(history_fit.history['acc'])\n",
    "    plt.plot(history_fit.history['val_acc'])\n",
    "    plt.title('model accuracy')\n",
    "    plt.ylabel('accuracy')\n",
    "    plt.xlabel('epoch')\n",
    "    plt.legend(['train', 'test'], loc='upper left')\n",
    "    \n",
    "    # summarize history for loss\n",
    "    plt.subplot(122)\n",
    "    plt.plot(history_fit.history['loss'])\n",
    "    plt.plot(history_fit.history['val_loss'])\n",
    "    plt.title('model loss')\n",
    "    plt.ylabel('loss')\n",
    "    plt.xlabel('epoch')\n",
    "    plt.legend(['train', 'test'], loc='upper left')\n",
    "    \n",
    "    plt.show()"
   ]
  },
  {
   "cell_type": "code",
   "execution_count": 15,
   "metadata": {},
   "outputs": [],
   "source": [
    "# 根据传入的预测值，创建 csv文件\n",
    "def create_submission(preds, test_id, info):\n",
    "    labels = []\n",
    "    for i,_ in enumerate(test_id):  \n",
    "        \n",
    "        # key代表预测的character的序号，value代表预测概率\n",
    "        pred_dict = {key:value for key,value in enumerate(preds[i])} \n",
    "        pred_sorted = sorted(pred_dict.items(), key=lambda item:(-item[1])) \n",
    "        # pred_sorted: [(k1,v1), (k2,v2), ...]\n",
    "        top_5 = ''\n",
    "        for j in range(5):\n",
    "            index = pred_sorted[j][0]\n",
    "            top_5 += label_char[index]\n",
    "        \n",
    "        labels.append(top_5) \n",
    "    \n",
    "    result = DataFrame(labels, columns=['label'])\n",
    "    result.insert(0, 'filename', test_id)\n",
    "    now = date.today()\n",
    "    suffix = info + '_' + now.strftime(\"%Y%m%d\")\n",
    "    sub_file = os.path.join('submission', 'subm_' + suffix + '.csv')\n",
    "    result.to_csv(sub_file, index=False)\n",
    "    \n",
    "    print(\"Create submission successfuly\")\n"
   ]
  },
  {
   "cell_type": "markdown",
   "metadata": {},
   "source": [
    "## fine-tune 模型\n",
    "选择keras中预训练好的模型，进行fine-tune"
   ]
  },
  {
   "cell_type": "code",
   "execution_count": 5,
   "metadata": {},
   "outputs": [
    {
     "name": "stderr",
     "output_type": "stream",
     "text": [
      "Using TensorFlow backend.\n"
     ]
    }
   ],
   "source": [
    "# 加载需要的keras模块\n",
    "from keras import optimizers, Input\n",
    "from keras import backend as K\n",
    "from keras.models import Model, load_model, save_model\n",
    "from keras.layers import Lambda, Dense, Dropout, Conv2D\n",
    "from keras.applications import VGG16, Xception, imagenet_utils\n",
    "from keras.callbacks import EarlyStopping, ModelCheckpoint\n",
    "\n",
    "from IPython.display import SVG"
   ]
  },
  {
   "cell_type": "markdown",
   "metadata": {},
   "source": [
    "### VGG 16"
   ]
  },
  {
   "cell_type": "code",
   "execution_count": 24,
   "metadata": {},
   "outputs": [],
   "source": [
    "def vgg16_model(img_rows, img_cols):\n",
    "    x = Input(shape=(img_rows, img_cols, 3))\n",
    "    x = Lambda(imagenet_utils.preprocess_input)(x)\n",
    "    \n",
    "    base_model = VGG16(input_tensor=x, weights='imagenet', \n",
    "                      include_top=False, pooling='avg')\n",
    "    x = base_model.output\n",
    "    x = Dense(1024, activation='relu', name='fc1')(x)\n",
    "    x = Dropout(0.5)(x)\n",
    "   # x = Dense(1024, activation='relu', name='fc2')(x)\n",
    "   # x = Dropout(0.5)(x)\n",
    "    predictions = Dense(100, activation='softmax', name='predictions')(x)\n",
    "    \n",
    "    vgg_model = Model(inputs=base_model.input, outputs=predictions, name='vgg16')\n",
    "    \n",
    "    return vgg_model"
   ]
  },
  {
   "cell_type": "code",
   "execution_count": 29,
   "metadata": {
    "scrolled": true
   },
   "outputs": [
    {
     "name": "stderr",
     "output_type": "stream",
     "text": [
      "load train images: 100%|██████████| 100/100 [00:48<00:00,  2.06it/s]\n"
     ]
    },
    {
     "name": "stdout",
     "output_type": "stream",
     "text": [
      "x_train shape:  (32000, 224, 224, 3)\n",
      "y_train shape:  (32000, 100)\n",
      "x_val shape:  (8000, 224, 224, 3)\n",
      "y_val shape:  (8000, 100)\n",
      "Train on 32000 samples, validate on 8000 samples\n",
      "Epoch 1/1\n",
      "32000/32000 [==============================] - 351s 11ms/step - loss: 4.0170 - acc: 0.1162 - val_loss: 3.0677 - val_acc: 0.2592\n",
      "Finish step_1\n",
      "Train on 32000 samples, validate on 8000 samples\n",
      "Epoch 1/4\n",
      "32000/32000 [==============================] - 904s 28ms/step - loss: 2.2213 - acc: 0.4328 - val_loss: 1.2172 - val_acc: 0.7116\n",
      "Epoch 2/4\n",
      "32000/32000 [==============================] - 914s 29ms/step - loss: 1.1733 - acc: 0.6873 - val_loss: 0.7259 - val_acc: 0.8249\n",
      "Epoch 3/4\n",
      "32000/32000 [==============================] - 915s 29ms/step - loss: 0.7656 - acc: 0.7945 - val_loss: 0.6600 - val_acc: 0.8361\n",
      "Epoch 4/4\n",
      "32000/32000 [==============================] - 910s 28ms/step - loss: 0.5543 - acc: 0.8477 - val_loss: 0.4766 - val_acc: 0.8782\n",
      "Finish fine-tune\n"
     ]
    },
    {
     "data": {
      "image/png": "[encoded data removed]",
      "text/plain": [
       "<Figure size 864x432 with 2 Axes>"
      ]
     },
     "metadata": {},
     "output_type": "display_data"
    },
    {
     "name": "stdout",
     "output_type": "stream",
     "text": [
      "8000/8000 [==============================] - 70s 9ms/step\n",
      "Final log_loss: 0.4767516372647409, epochs: 4\n"
     ]
    }
   ],
   "source": [
    "MODEL = vgg16_model\n",
    "model_str = 'vgg16'\n",
    "img_rows, img_cols = 224, 224\n",
    "\n",
    "#optimizer = optimizers.Adadelta(lr=1.0, rho=0.95, epsilon=1e-06)\n",
    "optimizer = optimizers.SGD(lr=0.0005, momentum=0.9)\n",
    "\n",
    "batch_size = 32\n",
    "epochs = 4\n",
    "freeze_num = 19\n",
    "    \n",
    "fine_tune_model(MODEL, img_rows, img_cols, optimizer, batch_size, epochs, freeze_num)"
   ]
  },
  {
   "cell_type": "markdown",
   "metadata": {},
   "source": [
    "#### 从保存的模型中恢复训练"
   ]
  },
  {
   "cell_type": "code",
   "execution_count": 16,
   "metadata": {},
   "outputs": [
    {
     "name": "stderr",
     "output_type": "stream",
     "text": [
      "load train images: 100%|██████████| 100/100 [00:49<00:00,  2.02it/s]\n"
     ]
    },
    {
     "name": "stdout",
     "output_type": "stream",
     "text": [
      "x_train shape:  (32000, 224, 224, 3)\n",
      "y_train shape:  (32000, 100)\n",
      "x_val shape:  (8000, 224, 224, 3)\n",
      "y_val shape:  (8000, 100)\n",
      "Train on 32000 samples, validate on 8000 samples\n",
      "Epoch 1/1\n",
      "32000/32000 [==============================] - 939s 29ms/step - loss: 0.4221 - acc: 0.8819 - val_loss: 0.4440 - val_acc: 0.8914\n",
      "Finish fine-tune\n"
     ]
    },
    {
     "data": {
      "image/png": "[encoded data removed]",
      "text/plain": [
       "<Figure size 864x432 with 2 Axes>"
      ]
     },
     "metadata": {},
     "output_type": "display_data"
    },
    {
     "name": "stdout",
     "output_type": "stream",
     "text": [
      "8000/8000 [==============================] - 72s 9ms/step\n",
      "Final log_loss: 0.4487821297025407, epochs: 1\n"
     ]
    }
   ],
   "source": [
    "# 从保存的模型中继续训练\n",
    "img_rows, img_cols = 224, 224\n",
    "model_str = 'vgg16'\n",
    "checkpoint_name = 'vgg16-2018-05-26.hdf5'\n",
    "optimizer = optimizers.SGD(lr=0.0001, momentum=0.9)\n",
    "batch_size = 32\n",
    "epochs = 10\n",
    "\n",
    "train_from_checkpoint(img_rows, img_cols, model_str, checkpoint_name, optimizer, batch_size, epochs)"
   ]
  },
  {
   "cell_type": "code",
   "execution_count": 65,
   "metadata": {},
   "outputs": [
    {
     "name": "stdout",
     "output_type": "stream",
     "text": [
      "load test data...\n"
     ]
    },
    {
     "name": "stderr",
     "output_type": "stream",
     "text": [
      "load test images:   1%|▌                                                           | 100/10000 [00:02<04:06, 40.14it/s]\n"
     ]
    },
    {
     "name": "stdout",
     "output_type": "stream",
     "text": [
      "100/100 [==============================] - ETA: 43 - ETA: 23 - ETA: 2 - 71s 712ms/step\n",
      "Create submission successfuly\n"
     ]
    }
   ],
   "source": [
    "# create vgg-16 submission .csv file\n",
    "img_rows, img_cols = 224, 224\n",
    "model_str = 'vgg16'\n",
    "model_name = 'vgg16-2018-05-25.hdf5'\n",
    "epochs = 4\n",
    "\n",
    "test_predict_and_submit(img_rows, img_cols, model_str, model_name, epochs)"
   ]
  },
  {
   "cell_type": "code",
   "execution_count": 6,
   "metadata": {},
   "outputs": [],
   "source": [
    "## test 3-1\n",
    "custom_objects = {'preprocess_input': imagenet_utils.preprocess_input,\n",
    "                          '_preprocess_symbolic_input': imagenet_utils._preprocess_symbolic_input}\n",
    "model = load_model(os.path.join('cache', 'xception-retrain-2018-05-26.hdf5'), custom_objects=custom_objects)\n",
    "path = os.path.join('./test1', '*.jpg')\n",
    "files = glob.glob(path)"
   ]
  },
  {
   "cell_type": "code",
   "execution_count": 11,
   "metadata": {},
   "outputs": [
    {
     "name": "stdout",
     "output_type": "stream",
     "text": [
      "(150, 150, 3)\n"
     ]
    },
    {
     "data": {
      "image/png": "[encoded data removed]",
      "text/plain": [
       "<matplotlib.figure.Figure at 0x25315644860>"
      ]
     },
     "metadata": {},
     "output_type": "display_data"
    },
    {
     "name": "stdout",
     "output_type": "stream",
     "text": [
      "(1, 100)\n",
      "[[  2.93000152e-10   3.70201647e-11   1.01820948e-10   3.93668550e-13\n",
      "    4.41404591e-05   4.51013220e-11   3.46392125e-14   1.76526946e-12\n",
      "    1.05896715e-12   1.62927435e-10   2.45320170e-11   4.33001135e-11\n",
      "    1.23530775e-12   2.71341586e-12   3.11519636e-13   1.45040762e-08\n",
      "    7.97371197e-12   5.32744786e-11   8.98004796e-11   1.47106849e-09\n",
      "    9.09793629e-11   2.27966007e-10   6.43947812e-11   1.57843530e-11\n",
      "    2.91062595e-12   5.01089925e-12   2.17602824e-12   9.31840976e-12\n",
      "    6.40605581e-12   1.36088244e-12   1.75724241e-10   1.56453947e-11\n",
      "    5.24125326e-11   1.17629136e-11   5.07424268e-12   3.49725443e-10\n",
      "    1.06851639e-10   8.30331776e-11   2.83408505e-11   3.80111692e-10\n",
      "    7.79940782e-12   1.62328675e-11   2.82172397e-10   2.89643916e-11\n",
      "    6.72389783e-11   4.79509869e-11   8.17170929e-13   8.15772883e-12\n",
      "    4.86768937e-13   3.67128827e-11   6.33862754e-11   1.07758719e-10\n",
      "    3.77164966e-11   1.04615145e-11   7.71040232e-10   2.67952860e-08\n",
      "    6.11484960e-11   2.01563180e-12   1.04601180e-11   2.29464933e-10\n",
      "    5.75819149e-11   8.18919377e-11   2.06396757e-11   4.58094456e-12\n",
      "    2.12185250e-13   7.41852239e-12   4.01935984e-11   1.08242232e-13\n",
      "    1.63610667e-10   9.91027573e-13   1.16846886e-12   1.15900050e-11\n",
      "    5.87467436e-11   1.26410609e-11   1.14111823e-12   2.61820218e-11\n",
      "    9.20801976e-12   1.11721778e-11   3.46427376e-09   1.95708675e-11\n",
      "    7.69385337e-12   3.02119822e-11   1.12756202e-11   3.89319517e-14\n",
      "    9.15412537e-11   9.20567164e-11   5.27008333e-11   3.83167317e-11\n",
      "    6.33630981e-10   1.45300820e-11   6.46073386e-12   2.77763680e-11\n",
      "    1.01395697e-11   2.23622206e-12   9.01068629e-12   3.55099674e-12\n",
      "    3.09527508e-11   9.99955773e-01   2.86750484e-10   7.38799716e-11]]\n"
     ]
    }
   ],
   "source": [
    "## test 3-2\n",
    "f = get_img(files[100], 150, 150)\n",
    "print(f.shape)\n",
    "plt.imshow(f)\n",
    "plt.show()\n",
    "f=np.expand_dims(f, axis=0)\n",
    "pred = model.predict(f)\n",
    "\n",
    "print(pred.shape)\n",
    "print(pred)\n"
   ]
  },
  {
   "cell_type": "code",
   "execution_count": 12,
   "metadata": {},
   "outputs": [
    {
     "name": "stdout",
     "output_type": "stream",
     "text": [
      "['高亭春去福']\n"
     ]
    }
   ],
   "source": [
    "# test 3-3\n",
    "labels=[]\n",
    "pred_dict = {key:value for key,value in enumerate(pred[0])} \n",
    "pred_sorted = sorted(pred_dict.items(), key=lambda item:(-item[1])) \n",
    "# pred_sorted: [(k1,v1), (k2,v2), ...]\n",
    "top_5 = ''\n",
    "for j in range(5):\n",
    "    index = pred_sorted[j][0]\n",
    "    top_5 += label_char[index]\n",
    "        \n",
    "labels.append(top_5) \n",
    "\n",
    "print(labels)"
   ]
  },
  {
   "cell_type": "markdown",
   "metadata": {},
   "source": [
    "### Xception"
   ]
  },
  {
   "cell_type": "code",
   "execution_count": 16,
   "metadata": {},
   "outputs": [],
   "source": [
    "# Xception\n",
    "def xception_model(img_rows, img_cols):\n",
    "    x = Input(shape=(img_rows, img_cols, 3))\n",
    "    x = Lambda(imagenet_utils.preprocess_input)(x)\n",
    "    \n",
    "    base_model = Xception(input_tensor=x, weights='imagenet', \n",
    "                      include_top=False, pooling='avg')\n",
    "    x = base_model.output\n",
    "    predictions = Dense(100, activation='softmax', name='predictions')(x)\n",
    "    \n",
    "    xception_model = Model(inputs=base_model.input, outputs=predictions, name='xception')\n",
    "    return xception_model"
   ]
  },
  {
   "cell_type": "code",
   "execution_count": 53,
   "metadata": {},
   "outputs": [
    {
     "name": "stdout",
     "output_type": "stream",
     "text": [
      "__________________________________________________________________________________________________\n",
      "Layer (type)                    Output Shape         Param #     Connected to                     \n",
      "==================================================================================================\n",
      "input_3 (InputLayer)            (None, 150, 150, 3)  0                                            \n",
      "__________________________________________________________________________________________________\n",
      "lambda_3 (Lambda)               (None, 150, 150, 3)  0           input_3[0][0]                    \n",
      "__________________________________________________________________________________________________\n",
      "block1_conv1 (Conv2D)           (None, 74, 74, 32)   864         lambda_3[0][0]                   \n",
      "__________________________________________________________________________________________________\n",
      "block1_conv1_bn (BatchNormaliza (None, 74, 74, 32)   128         block1_conv1[0][0]               \n",
      "__________________________________________________________________________________________________\n",
      "block1_conv1_act (Activation)   (None, 74, 74, 32)   0           block1_conv1_bn[0][0]            \n",
      "__________________________________________________________________________________________________\n",
      "block1_conv2 (Conv2D)           (None, 72, 72, 64)   18432       block1_conv1_act[0][0]           \n",
      "__________________________________________________________________________________________________\n",
      "block1_conv2_bn (BatchNormaliza (None, 72, 72, 64)   256         block1_conv2[0][0]               \n",
      "__________________________________________________________________________________________________\n",
      "block1_conv2_act (Activation)   (None, 72, 72, 64)   0           block1_conv2_bn[0][0]            \n",
      "__________________________________________________________________________________________________\n",
      "block2_sepconv1 (SeparableConv2 (None, 72, 72, 128)  8768        block1_conv2_act[0][0]           \n",
      "__________________________________________________________________________________________________\n",
      "block2_sepconv1_bn (BatchNormal (None, 72, 72, 128)  512         block2_sepconv1[0][0]            \n",
      "__________________________________________________________________________________________________\n",
      "block2_sepconv2_act (Activation (None, 72, 72, 128)  0           block2_sepconv1_bn[0][0]         \n",
      "__________________________________________________________________________________________________\n",
      "block2_sepconv2 (SeparableConv2 (None, 72, 72, 128)  17536       block2_sepconv2_act[0][0]        \n",
      "__________________________________________________________________________________________________\n",
      "block2_sepconv2_bn (BatchNormal (None, 72, 72, 128)  512         block2_sepconv2[0][0]            \n",
      "__________________________________________________________________________________________________\n",
      "conv2d_5 (Conv2D)               (None, 36, 36, 128)  8192        block1_conv2_act[0][0]           \n",
      "__________________________________________________________________________________________________\n",
      "block2_pool (MaxPooling2D)      (None, 36, 36, 128)  0           block2_sepconv2_bn[0][0]         \n",
      "__________________________________________________________________________________________________\n",
      "batch_normalization_5 (BatchNor (None, 36, 36, 128)  512         conv2d_5[0][0]                   \n",
      "__________________________________________________________________________________________________\n",
      "add_13 (Add)                    (None, 36, 36, 128)  0           block2_pool[0][0]                \n",
      "                                                                 batch_normalization_5[0][0]      \n",
      "__________________________________________________________________________________________________\n",
      "block3_sepconv1_act (Activation (None, 36, 36, 128)  0           add_13[0][0]                     \n",
      "__________________________________________________________________________________________________\n",
      "block3_sepconv1 (SeparableConv2 (None, 36, 36, 256)  33920       block3_sepconv1_act[0][0]        \n",
      "__________________________________________________________________________________________________\n",
      "block3_sepconv1_bn (BatchNormal (None, 36, 36, 256)  1024        block3_sepconv1[0][0]            \n",
      "__________________________________________________________________________________________________\n",
      "block3_sepconv2_act (Activation (None, 36, 36, 256)  0           block3_sepconv1_bn[0][0]         \n",
      "__________________________________________________________________________________________________\n",
      "block3_sepconv2 (SeparableConv2 (None, 36, 36, 256)  67840       block3_sepconv2_act[0][0]        \n",
      "__________________________________________________________________________________________________\n",
      "block3_sepconv2_bn (BatchNormal (None, 36, 36, 256)  1024        block3_sepconv2[0][0]            \n",
      "__________________________________________________________________________________________________\n",
      "conv2d_6 (Conv2D)               (None, 18, 18, 256)  32768       add_13[0][0]                     \n",
      "__________________________________________________________________________________________________\n",
      "block3_pool (MaxPooling2D)      (None, 18, 18, 256)  0           block3_sepconv2_bn[0][0]         \n",
      "__________________________________________________________________________________________________\n",
      "batch_normalization_6 (BatchNor (None, 18, 18, 256)  1024        conv2d_6[0][0]                   \n",
      "__________________________________________________________________________________________________\n",
      "add_14 (Add)                    (None, 18, 18, 256)  0           block3_pool[0][0]                \n",
      "                                                                 batch_normalization_6[0][0]      \n",
      "__________________________________________________________________________________________________\n",
      "block4_sepconv1_act (Activation (None, 18, 18, 256)  0           add_14[0][0]                     \n",
      "__________________________________________________________________________________________________\n",
      "block4_sepconv1 (SeparableConv2 (None, 18, 18, 728)  188672      block4_sepconv1_act[0][0]        \n",
      "__________________________________________________________________________________________________\n",
      "block4_sepconv1_bn (BatchNormal (None, 18, 18, 728)  2912        block4_sepconv1[0][0]            \n",
      "__________________________________________________________________________________________________\n",
      "block4_sepconv2_act (Activation (None, 18, 18, 728)  0           block4_sepconv1_bn[0][0]         \n",
      "__________________________________________________________________________________________________\n",
      "block4_sepconv2 (SeparableConv2 (None, 18, 18, 728)  536536      block4_sepconv2_act[0][0]        \n",
      "__________________________________________________________________________________________________\n",
      "block4_sepconv2_bn (BatchNormal (None, 18, 18, 728)  2912        block4_sepconv2[0][0]            \n",
      "__________________________________________________________________________________________________\n",
      "conv2d_7 (Conv2D)               (None, 9, 9, 728)    186368      add_14[0][0]                     \n",
      "__________________________________________________________________________________________________\n",
      "block4_pool (MaxPooling2D)      (None, 9, 9, 728)    0           block4_sepconv2_bn[0][0]         \n",
      "__________________________________________________________________________________________________\n",
      "batch_normalization_7 (BatchNor (None, 9, 9, 728)    2912        conv2d_7[0][0]                   \n",
      "__________________________________________________________________________________________________\n",
      "add_15 (Add)                    (None, 9, 9, 728)    0           block4_pool[0][0]                \n",
      "                                                                 batch_normalization_7[0][0]      \n",
      "__________________________________________________________________________________________________\n",
      "block5_sepconv1_act (Activation (None, 9, 9, 728)    0           add_15[0][0]                     \n",
      "__________________________________________________________________________________________________\n",
      "block5_sepconv1 (SeparableConv2 (None, 9, 9, 728)    536536      block5_sepconv1_act[0][0]        \n",
      "__________________________________________________________________________________________________\n",
      "block5_sepconv1_bn (BatchNormal (None, 9, 9, 728)    2912        block5_sepconv1[0][0]            \n",
      "__________________________________________________________________________________________________\n",
      "block5_sepconv2_act (Activation (None, 9, 9, 728)    0           block5_sepconv1_bn[0][0]         \n",
      "__________________________________________________________________________________________________\n",
      "block5_sepconv2 (SeparableConv2 (None, 9, 9, 728)    536536      block5_sepconv2_act[0][0]        \n",
      "__________________________________________________________________________________________________\n",
      "block5_sepconv2_bn (BatchNormal (None, 9, 9, 728)    2912        block5_sepconv2[0][0]            \n",
      "__________________________________________________________________________________________________\n",
      "block5_sepconv3_act (Activation (None, 9, 9, 728)    0           block5_sepconv2_bn[0][0]         \n",
      "__________________________________________________________________________________________________\n",
      "block5_sepconv3 (SeparableConv2 (None, 9, 9, 728)    536536      block5_sepconv3_act[0][0]        \n",
      "__________________________________________________________________________________________________\n",
      "block5_sepconv3_bn (BatchNormal (None, 9, 9, 728)    2912        block5_sepconv3[0][0]            \n",
      "__________________________________________________________________________________________________\n",
      "add_16 (Add)                    (None, 9, 9, 728)    0           block5_sepconv3_bn[0][0]         \n",
      "                                                                 add_15[0][0]                     \n",
      "__________________________________________________________________________________________________\n",
      "block6_sepconv1_act (Activation (None, 9, 9, 728)    0           add_16[0][0]                     \n",
      "__________________________________________________________________________________________________\n",
      "block6_sepconv1 (SeparableConv2 (None, 9, 9, 728)    536536      block6_sepconv1_act[0][0]        \n",
      "__________________________________________________________________________________________________\n",
      "block6_sepconv1_bn (BatchNormal (None, 9, 9, 728)    2912        block6_sepconv1[0][0]            \n",
      "__________________________________________________________________________________________________\n",
      "block6_sepconv2_act (Activation (None, 9, 9, 728)    0           block6_sepconv1_bn[0][0]         \n",
      "__________________________________________________________________________________________________\n",
      "block6_sepconv2 (SeparableConv2 (None, 9, 9, 728)    536536      block6_sepconv2_act[0][0]        \n",
      "__________________________________________________________________________________________________\n",
      "block6_sepconv2_bn (BatchNormal (None, 9, 9, 728)    2912        block6_sepconv2[0][0]            \n",
      "__________________________________________________________________________________________________\n",
      "block6_sepconv3_act (Activation (None, 9, 9, 728)    0           block6_sepconv2_bn[0][0]         \n",
      "__________________________________________________________________________________________________\n",
      "block6_sepconv3 (SeparableConv2 (None, 9, 9, 728)    536536      block6_sepconv3_act[0][0]        \n",
      "__________________________________________________________________________________________________\n",
      "block6_sepconv3_bn (BatchNormal (None, 9, 9, 728)    2912        block6_sepconv3[0][0]            \n",
      "__________________________________________________________________________________________________\n",
      "add_17 (Add)                    (None, 9, 9, 728)    0           block6_sepconv3_bn[0][0]         \n",
      "                                                                 add_16[0][0]                     \n",
      "__________________________________________________________________________________________________\n",
      "block7_sepconv1_act (Activation (None, 9, 9, 728)    0           add_17[0][0]                     \n",
      "__________________________________________________________________________________________________\n",
      "block7_sepconv1 (SeparableConv2 (None, 9, 9, 728)    536536      block7_sepconv1_act[0][0]        \n",
      "__________________________________________________________________________________________________\n",
      "block7_sepconv1_bn (BatchNormal (None, 9, 9, 728)    2912        block7_sepconv1[0][0]            \n",
      "__________________________________________________________________________________________________\n",
      "block7_sepconv2_act (Activation (None, 9, 9, 728)    0           block7_sepconv1_bn[0][0]         \n",
      "__________________________________________________________________________________________________\n",
      "block7_sepconv2 (SeparableConv2 (None, 9, 9, 728)    536536      block7_sepconv2_act[0][0]        \n",
      "__________________________________________________________________________________________________\n",
      "block7_sepconv2_bn (BatchNormal (None, 9, 9, 728)    2912        block7_sepconv2[0][0]            \n",
      "__________________________________________________________________________________________________\n",
      "block7_sepconv3_act (Activation (None, 9, 9, 728)    0           block7_sepconv2_bn[0][0]         \n",
      "__________________________________________________________________________________________________\n",
      "block7_sepconv3 (SeparableConv2 (None, 9, 9, 728)    536536      block7_sepconv3_act[0][0]        \n",
      "__________________________________________________________________________________________________\n",
      "block7_sepconv3_bn (BatchNormal (None, 9, 9, 728)    2912        block7_sepconv3[0][0]            \n",
      "__________________________________________________________________________________________________\n",
      "add_18 (Add)                    (None, 9, 9, 728)    0           block7_sepconv3_bn[0][0]         \n",
      "                                                                 add_17[0][0]                     \n",
      "__________________________________________________________________________________________________\n",
      "block8_sepconv1_act (Activation (None, 9, 9, 728)    0           add_18[0][0]                     \n",
      "__________________________________________________________________________________________________\n",
      "block8_sepconv1 (SeparableConv2 (None, 9, 9, 728)    536536      block8_sepconv1_act[0][0]        \n",
      "__________________________________________________________________________________________________\n",
      "block8_sepconv1_bn (BatchNormal (None, 9, 9, 728)    2912        block8_sepconv1[0][0]            \n",
      "__________________________________________________________________________________________________\n",
      "block8_sepconv2_act (Activation (None, 9, 9, 728)    0           block8_sepconv1_bn[0][0]         \n",
      "__________________________________________________________________________________________________\n",
      "block8_sepconv2 (SeparableConv2 (None, 9, 9, 728)    536536      block8_sepconv2_act[0][0]        \n",
      "__________________________________________________________________________________________________\n",
      "block8_sepconv2_bn (BatchNormal (None, 9, 9, 728)    2912        block8_sepconv2[0][0]            \n",
      "__________________________________________________________________________________________________\n",
      "block8_sepconv3_act (Activation (None, 9, 9, 728)    0           block8_sepconv2_bn[0][0]         \n",
      "__________________________________________________________________________________________________\n",
      "block8_sepconv3 (SeparableConv2 (None, 9, 9, 728)    536536      block8_sepconv3_act[0][0]        \n",
      "__________________________________________________________________________________________________\n",
      "block8_sepconv3_bn (BatchNormal (None, 9, 9, 728)    2912        block8_sepconv3[0][0]            \n",
      "__________________________________________________________________________________________________\n",
      "add_19 (Add)                    (None, 9, 9, 728)    0           block8_sepconv3_bn[0][0]         \n",
      "                                                                 add_18[0][0]                     \n",
      "__________________________________________________________________________________________________\n"
     ]
    },
    {
     "name": "stdout",
     "output_type": "stream",
     "text": [
      "block9_sepconv1_act (Activation (None, 9, 9, 728)    0           add_19[0][0]                     \n",
      "__________________________________________________________________________________________________\n",
      "block9_sepconv1 (SeparableConv2 (None, 9, 9, 728)    536536      block9_sepconv1_act[0][0]        \n",
      "__________________________________________________________________________________________________\n",
      "block9_sepconv1_bn (BatchNormal (None, 9, 9, 728)    2912        block9_sepconv1[0][0]            \n",
      "__________________________________________________________________________________________________\n",
      "block9_sepconv2_act (Activation (None, 9, 9, 728)    0           block9_sepconv1_bn[0][0]         \n",
      "__________________________________________________________________________________________________\n",
      "block9_sepconv2 (SeparableConv2 (None, 9, 9, 728)    536536      block9_sepconv2_act[0][0]        \n",
      "__________________________________________________________________________________________________\n",
      "block9_sepconv2_bn (BatchNormal (None, 9, 9, 728)    2912        block9_sepconv2[0][0]            \n",
      "__________________________________________________________________________________________________\n",
      "block9_sepconv3_act (Activation (None, 9, 9, 728)    0           block9_sepconv2_bn[0][0]         \n",
      "__________________________________________________________________________________________________\n",
      "block9_sepconv3 (SeparableConv2 (None, 9, 9, 728)    536536      block9_sepconv3_act[0][0]        \n",
      "__________________________________________________________________________________________________\n",
      "block9_sepconv3_bn (BatchNormal (None, 9, 9, 728)    2912        block9_sepconv3[0][0]            \n",
      "__________________________________________________________________________________________________\n",
      "add_20 (Add)                    (None, 9, 9, 728)    0           block9_sepconv3_bn[0][0]         \n",
      "                                                                 add_19[0][0]                     \n",
      "__________________________________________________________________________________________________\n",
      "block10_sepconv1_act (Activatio (None, 9, 9, 728)    0           add_20[0][0]                     \n",
      "__________________________________________________________________________________________________\n",
      "block10_sepconv1 (SeparableConv (None, 9, 9, 728)    536536      block10_sepconv1_act[0][0]       \n",
      "__________________________________________________________________________________________________\n",
      "block10_sepconv1_bn (BatchNorma (None, 9, 9, 728)    2912        block10_sepconv1[0][0]           \n",
      "__________________________________________________________________________________________________\n",
      "block10_sepconv2_act (Activatio (None, 9, 9, 728)    0           block10_sepconv1_bn[0][0]        \n",
      "__________________________________________________________________________________________________\n",
      "block10_sepconv2 (SeparableConv (None, 9, 9, 728)    536536      block10_sepconv2_act[0][0]       \n",
      "__________________________________________________________________________________________________\n",
      "block10_sepconv2_bn (BatchNorma (None, 9, 9, 728)    2912        block10_sepconv2[0][0]           \n",
      "__________________________________________________________________________________________________\n",
      "block10_sepconv3_act (Activatio (None, 9, 9, 728)    0           block10_sepconv2_bn[0][0]        \n",
      "__________________________________________________________________________________________________\n",
      "block10_sepconv3 (SeparableConv (None, 9, 9, 728)    536536      block10_sepconv3_act[0][0]       \n",
      "__________________________________________________________________________________________________\n",
      "block10_sepconv3_bn (BatchNorma (None, 9, 9, 728)    2912        block10_sepconv3[0][0]           \n",
      "__________________________________________________________________________________________________\n",
      "add_21 (Add)                    (None, 9, 9, 728)    0           block10_sepconv3_bn[0][0]        \n",
      "                                                                 add_20[0][0]                     \n",
      "__________________________________________________________________________________________________\n",
      "block11_sepconv1_act (Activatio (None, 9, 9, 728)    0           add_21[0][0]                     \n",
      "__________________________________________________________________________________________________\n",
      "block11_sepconv1 (SeparableConv (None, 9, 9, 728)    536536      block11_sepconv1_act[0][0]       \n",
      "__________________________________________________________________________________________________\n",
      "block11_sepconv1_bn (BatchNorma (None, 9, 9, 728)    2912        block11_sepconv1[0][0]           \n",
      "__________________________________________________________________________________________________\n",
      "block11_sepconv2_act (Activatio (None, 9, 9, 728)    0           block11_sepconv1_bn[0][0]        \n",
      "__________________________________________________________________________________________________\n",
      "block11_sepconv2 (SeparableConv (None, 9, 9, 728)    536536      block11_sepconv2_act[0][0]       \n",
      "__________________________________________________________________________________________________\n",
      "block11_sepconv2_bn (BatchNorma (None, 9, 9, 728)    2912        block11_sepconv2[0][0]           \n",
      "__________________________________________________________________________________________________\n",
      "block11_sepconv3_act (Activatio (None, 9, 9, 728)    0           block11_sepconv2_bn[0][0]        \n",
      "__________________________________________________________________________________________________\n",
      "block11_sepconv3 (SeparableConv (None, 9, 9, 728)    536536      block11_sepconv3_act[0][0]       \n",
      "__________________________________________________________________________________________________\n",
      "block11_sepconv3_bn (BatchNorma (None, 9, 9, 728)    2912        block11_sepconv3[0][0]           \n",
      "__________________________________________________________________________________________________\n",
      "add_22 (Add)                    (None, 9, 9, 728)    0           block11_sepconv3_bn[0][0]        \n",
      "                                                                 add_21[0][0]                     \n",
      "__________________________________________________________________________________________________\n",
      "block12_sepconv1_act (Activatio (None, 9, 9, 728)    0           add_22[0][0]                     \n",
      "__________________________________________________________________________________________________\n",
      "block12_sepconv1 (SeparableConv (None, 9, 9, 728)    536536      block12_sepconv1_act[0][0]       \n",
      "__________________________________________________________________________________________________\n",
      "block12_sepconv1_bn (BatchNorma (None, 9, 9, 728)    2912        block12_sepconv1[0][0]           \n",
      "__________________________________________________________________________________________________\n",
      "block12_sepconv2_act (Activatio (None, 9, 9, 728)    0           block12_sepconv1_bn[0][0]        \n",
      "__________________________________________________________________________________________________\n",
      "block12_sepconv2 (SeparableConv (None, 9, 9, 728)    536536      block12_sepconv2_act[0][0]       \n",
      "__________________________________________________________________________________________________\n",
      "block12_sepconv2_bn (BatchNorma (None, 9, 9, 728)    2912        block12_sepconv2[0][0]           \n",
      "__________________________________________________________________________________________________\n",
      "block12_sepconv3_act (Activatio (None, 9, 9, 728)    0           block12_sepconv2_bn[0][0]        \n",
      "__________________________________________________________________________________________________\n",
      "block12_sepconv3 (SeparableConv (None, 9, 9, 728)    536536      block12_sepconv3_act[0][0]       \n",
      "__________________________________________________________________________________________________\n",
      "block12_sepconv3_bn (BatchNorma (None, 9, 9, 728)    2912        block12_sepconv3[0][0]           \n",
      "__________________________________________________________________________________________________\n",
      "add_23 (Add)                    (None, 9, 9, 728)    0           block12_sepconv3_bn[0][0]        \n",
      "                                                                 add_22[0][0]                     \n",
      "__________________________________________________________________________________________________\n",
      "block13_sepconv1_act (Activatio (None, 9, 9, 728)    0           add_23[0][0]                     \n",
      "__________________________________________________________________________________________________\n",
      "block13_sepconv1 (SeparableConv (None, 9, 9, 728)    536536      block13_sepconv1_act[0][0]       \n",
      "__________________________________________________________________________________________________\n",
      "block13_sepconv1_bn (BatchNorma (None, 9, 9, 728)    2912        block13_sepconv1[0][0]           \n",
      "__________________________________________________________________________________________________\n",
      "block13_sepconv2_act (Activatio (None, 9, 9, 728)    0           block13_sepconv1_bn[0][0]        \n",
      "__________________________________________________________________________________________________\n",
      "block13_sepconv2 (SeparableConv (None, 9, 9, 1024)   752024      block13_sepconv2_act[0][0]       \n",
      "__________________________________________________________________________________________________\n",
      "block13_sepconv2_bn (BatchNorma (None, 9, 9, 1024)   4096        block13_sepconv2[0][0]           \n",
      "__________________________________________________________________________________________________\n",
      "conv2d_8 (Conv2D)               (None, 5, 5, 1024)   745472      add_23[0][0]                     \n",
      "__________________________________________________________________________________________________\n",
      "block13_pool (MaxPooling2D)     (None, 5, 5, 1024)   0           block13_sepconv2_bn[0][0]        \n",
      "__________________________________________________________________________________________________\n",
      "batch_normalization_8 (BatchNor (None, 5, 5, 1024)   4096        conv2d_8[0][0]                   \n",
      "__________________________________________________________________________________________________\n",
      "add_24 (Add)                    (None, 5, 5, 1024)   0           block13_pool[0][0]               \n",
      "                                                                 batch_normalization_8[0][0]      \n",
      "__________________________________________________________________________________________________\n",
      "block14_sepconv1 (SeparableConv (None, 5, 5, 1536)   1582080     add_24[0][0]                     \n",
      "__________________________________________________________________________________________________\n",
      "block14_sepconv1_bn (BatchNorma (None, 5, 5, 1536)   6144        block14_sepconv1[0][0]           \n",
      "__________________________________________________________________________________________________\n",
      "block14_sepconv1_act (Activatio (None, 5, 5, 1536)   0           block14_sepconv1_bn[0][0]        \n",
      "__________________________________________________________________________________________________\n",
      "block14_sepconv2 (SeparableConv (None, 5, 5, 2048)   3159552     block14_sepconv1_act[0][0]       \n",
      "__________________________________________________________________________________________________\n",
      "block14_sepconv2_bn (BatchNorma (None, 5, 5, 2048)   8192        block14_sepconv2[0][0]           \n",
      "__________________________________________________________________________________________________\n",
      "block14_sepconv2_act (Activatio (None, 5, 5, 2048)   0           block14_sepconv2_bn[0][0]        \n",
      "__________________________________________________________________________________________________\n",
      "global_average_pooling2d_2 (Glo (None, 2048)         0           block14_sepconv2_act[0][0]       \n",
      "__________________________________________________________________________________________________\n",
      "predictions (Dense)             (None, 100)          204900      global_average_pooling2d_2[0][0] \n",
      "==================================================================================================\n",
      "Total params: 21,066,380\n",
      "Trainable params: 21,011,852\n",
      "Non-trainable params: 54,528\n",
      "__________________________________________________________________________________________________\n"
     ]
    }
   ],
   "source": [
    "xception = xception_model(150, 150)\n",
    "xception.summary()"
   ]
  },
  {
   "cell_type": "code",
   "execution_count": 54,
   "metadata": {},
   "outputs": [
    {
     "name": "stdout",
     "output_type": "stream",
     "text": [
      "0 input_3\n",
      "1 lambda_3\n",
      "2 block1_conv1\n",
      "3 block1_conv1_bn\n",
      "4 block1_conv1_act\n",
      "5 block1_conv2\n",
      "6 block1_conv2_bn\n",
      "7 block1_conv2_act\n",
      "8 block2_sepconv1\n",
      "9 block2_sepconv1_bn\n",
      "10 block2_sepconv2_act\n",
      "11 block2_sepconv2\n",
      "12 block2_sepconv2_bn\n",
      "13 conv2d_5\n",
      "14 block2_pool\n",
      "15 batch_normalization_5\n",
      "16 add_13\n",
      "17 block3_sepconv1_act\n",
      "18 block3_sepconv1\n",
      "19 block3_sepconv1_bn\n",
      "20 block3_sepconv2_act\n",
      "21 block3_sepconv2\n",
      "22 block3_sepconv2_bn\n",
      "23 conv2d_6\n",
      "24 block3_pool\n",
      "25 batch_normalization_6\n",
      "26 add_14\n",
      "27 block4_sepconv1_act\n",
      "28 block4_sepconv1\n",
      "29 block4_sepconv1_bn\n",
      "30 block4_sepconv2_act\n",
      "31 block4_sepconv2\n",
      "32 block4_sepconv2_bn\n",
      "33 conv2d_7\n",
      "34 block4_pool\n",
      "35 batch_normalization_7\n",
      "36 add_15\n",
      "37 block5_sepconv1_act\n",
      "38 block5_sepconv1\n",
      "39 block5_sepconv1_bn\n",
      "40 block5_sepconv2_act\n",
      "41 block5_sepconv2\n",
      "42 block5_sepconv2_bn\n",
      "43 block5_sepconv3_act\n",
      "44 block5_sepconv3\n",
      "45 block5_sepconv3_bn\n",
      "46 add_16\n",
      "47 block6_sepconv1_act\n",
      "48 block6_sepconv1\n",
      "49 block6_sepconv1_bn\n",
      "50 block6_sepconv2_act\n",
      "51 block6_sepconv2\n",
      "52 block6_sepconv2_bn\n",
      "53 block6_sepconv3_act\n",
      "54 block6_sepconv3\n",
      "55 block6_sepconv3_bn\n",
      "56 add_17\n",
      "57 block7_sepconv1_act\n",
      "58 block7_sepconv1\n",
      "59 block7_sepconv1_bn\n",
      "60 block7_sepconv2_act\n",
      "61 block7_sepconv2\n",
      "62 block7_sepconv2_bn\n",
      "63 block7_sepconv3_act\n",
      "64 block7_sepconv3\n",
      "65 block7_sepconv3_bn\n",
      "66 add_18\n",
      "67 block8_sepconv1_act\n",
      "68 block8_sepconv1\n",
      "69 block8_sepconv1_bn\n",
      "70 block8_sepconv2_act\n",
      "71 block8_sepconv2\n",
      "72 block8_sepconv2_bn\n",
      "73 block8_sepconv3_act\n",
      "74 block8_sepconv3\n",
      "75 block8_sepconv3_bn\n",
      "76 add_19\n",
      "77 block9_sepconv1_act\n",
      "78 block9_sepconv1\n",
      "79 block9_sepconv1_bn\n",
      "80 block9_sepconv2_act\n",
      "81 block9_sepconv2\n",
      "82 block9_sepconv2_bn\n",
      "83 block9_sepconv3_act\n",
      "84 block9_sepconv3\n",
      "85 block9_sepconv3_bn\n",
      "86 add_20\n",
      "87 block10_sepconv1_act\n",
      "88 block10_sepconv1\n",
      "89 block10_sepconv1_bn\n",
      "90 block10_sepconv2_act\n",
      "91 block10_sepconv2\n",
      "92 block10_sepconv2_bn\n",
      "93 block10_sepconv3_act\n",
      "94 block10_sepconv3\n",
      "95 block10_sepconv3_bn\n",
      "96 add_21\n",
      "97 block11_sepconv1_act\n",
      "98 block11_sepconv1\n",
      "99 block11_sepconv1_bn\n",
      "100 block11_sepconv2_act\n",
      "101 block11_sepconv2\n",
      "102 block11_sepconv2_bn\n",
      "103 block11_sepconv3_act\n",
      "104 block11_sepconv3\n",
      "105 block11_sepconv3_bn\n",
      "106 add_22\n",
      "107 block12_sepconv1_act\n",
      "108 block12_sepconv1\n",
      "109 block12_sepconv1_bn\n",
      "110 block12_sepconv2_act\n",
      "111 block12_sepconv2\n",
      "112 block12_sepconv2_bn\n",
      "113 block12_sepconv3_act\n",
      "114 block12_sepconv3\n",
      "115 block12_sepconv3_bn\n",
      "116 add_23\n",
      "117 block13_sepconv1_act\n",
      "118 block13_sepconv1\n",
      "119 block13_sepconv1_bn\n",
      "120 block13_sepconv2_act\n",
      "121 block13_sepconv2\n",
      "122 block13_sepconv2_bn\n",
      "123 conv2d_8\n",
      "124 block13_pool\n",
      "125 batch_normalization_8\n",
      "126 add_24\n",
      "127 block14_sepconv1\n",
      "128 block14_sepconv1_bn\n",
      "129 block14_sepconv1_act\n",
      "130 block14_sepconv2\n",
      "131 block14_sepconv2_bn\n",
      "132 block14_sepconv2_act\n",
      "133 global_average_pooling2d_2\n",
      "134 predictions\n"
     ]
    }
   ],
   "source": [
    "##### 列出每一层的序号和名字\n",
    "for i,layer in enumerate(xception.layers):\n",
    "    print(i, layer.name)"
   ]
  },
  {
   "cell_type": "code",
   "execution_count": null,
   "metadata": {},
   "outputs": [
    {
     "name": "stderr",
     "output_type": "stream",
     "text": [
      "load train images: 100%|██████████| 100/100 [00:39<00:00,  2.52it/s]\n"
     ]
    },
    {
     "name": "stdout",
     "output_type": "stream",
     "text": [
      "x_train shape:  (32000, 150, 150, 3)\n",
      "y_train shape:  (32000, 100)\n",
      "x_val shape:  (8000, 150, 150, 3)\n",
      "y_val shape:  (8000, 100)\n",
      "Train on 32000 samples, validate on 8000 samples\n",
      "Epoch 1/2\n",
      "32000/32000 [==============================] - 195s 6ms/step - loss: 3.9388 - acc: 0.1466 - val_loss: 15.4336 - val_acc: 0.0103\n",
      "Epoch 2/2\n",
      "32000/32000 [==============================] - 193s 6ms/step - loss: 3.2761 - acc: 0.2691 - val_loss: 15.6713 - val_acc: 0.0097\n",
      "Finish step_1\n",
      "Train on 32000 samples, validate on 8000 samples\n",
      "Epoch 1/4\n",
      "32000/32000 [==============================] - 689s 22ms/step - loss: 1.0374 - acc: 0.7328 - val_loss: 1.0514 - val_acc: 0.7540\n",
      "Epoch 2/4\n",
      "13888/32000 [============>.................] - ETA: 5:59 - loss: 0.3482 - acc: 0.9041"
     ]
    }
   ],
   "source": [
    "# train Xception\n",
    "MODEL = xception_model\n",
    "model_str = 'xception'\n",
    "img_rows, img_cols = 150, 150\n",
    "optimizer = optimizers.Adadelta(lr=1.0, rho=0.95, epsilon=1e-06)\n",
    "#optimizer = optimizers.SGD(lr=0.001, momentum=0.9)\n",
    "batch_size = 32\n",
    "epochs = 10\n",
    "freeze_num = 133\n",
    "    \n",
    "fine_tune_model(MODEL, img_rows, img_cols, optimizer, batch_size, epochs, freeze_num)"
   ]
  },
  {
   "cell_type": "code",
   "execution_count": 17,
   "metadata": {},
   "outputs": [
    {
     "name": "stderr",
     "output_type": "stream",
     "text": [
      "load train images: 100%|██████████| 100/100 [00:43<00:00,  2.32it/s]\n"
     ]
    },
    {
     "name": "stdout",
     "output_type": "stream",
     "text": [
      "x_train shape:  (32000, 150, 150, 3)\n",
      "y_train shape:  (32000, 100)\n",
      "x_val shape:  (8000, 150, 150, 3)\n",
      "y_val shape:  (8000, 100)\n",
      "Train on 32000 samples, validate on 8000 samples\n",
      "Epoch 1/10\n",
      "32000/32000 [==============================] - 688s 22ms/step - loss: 0.0370 - acc: 0.9892 - val_loss: 0.3658 - val_acc: 0.9257\n",
      "Epoch 2/10\n",
      "32000/32000 [==============================] - 677s 21ms/step - loss: 0.0310 - acc: 0.9908 - val_loss: 0.2847 - val_acc: 0.9425\n",
      "Epoch 3/10\n",
      "32000/32000 [==============================] - 676s 21ms/step - loss: 0.0276 - acc: 0.9917 - val_loss: 0.2885 - val_acc: 0.9421\n",
      "Epoch 4/10\n",
      "32000/32000 [==============================] - 676s 21ms/step - loss: 0.0250 - acc: 0.9926 - val_loss: 0.2933 - val_acc: 0.9413\n",
      "Epoch 5/10\n",
      "32000/32000 [==============================] - 676s 21ms/step - loss: 0.0203 - acc: 0.9943 - val_loss: 0.2993 - val_acc: 0.9361\n",
      "Epoch 6/10\n",
      "32000/32000 [==============================] - 676s 21ms/step - loss: 0.0211 - acc: 0.9937 - val_loss: 0.3210 - val_acc: 0.9377\n",
      "Finish fine-tune\n"
     ]
    },
    {
     "data": {
      "image/png": "[encoded data removed]",
      "text/plain": [
       "<Figure size 864x432 with 2 Axes>"
      ]
     },
     "metadata": {},
     "output_type": "display_data"
    },
    {
     "name": "stdout",
     "output_type": "stream",
     "text": [
      "8000/8000 [==============================] - 48s 6ms/step\n",
      "Final log_loss: 0.3230307900376265, epochs: 10\n"
     ]
    }
   ],
   "source": [
    "# 从保存的模型中继续训练\n",
    "img_rows, img_cols = 150, 150\n",
    "model_str = 'vgg16'\n",
    "checkpoint_name = 'xception-2018-05-26.hdf5'\n",
    "optimizer = optimizers.Adadelta(lr=1.0, rho=0.95, epsilon=1e-06)\n",
    "#optimizer = optimizers.SGD(lr=0.0001, momentum=0.9)\n",
    "batch_size = 32\n",
    "epochs = 10\n",
    "\n",
    "train_from_checkpoint(img_rows, img_cols, model_str, checkpoint_name, optimizer, batch_size, epochs)"
   ]
  },
  {
   "cell_type": "code",
   "execution_count": 18,
   "metadata": {},
   "outputs": [
    {
     "name": "stdout",
     "output_type": "stream",
     "text": [
      "load test data...\n"
     ]
    },
    {
     "name": "stderr",
     "output_type": "stream",
     "text": [
      "load test images: 100%|██████████████████████████████████████████████████████████| 10000/10000 [03:10<00:00, 52.43it/s]\n"
     ]
    },
    {
     "name": "stdout",
     "output_type": "stream",
     "text": [
      "test data loaded!\n",
      "10000/10000 [==============================] - ETA: 1:14:5 - ETA: 1:11:0 - ETA: 1:10:3 - ETA: 1:10:0 - ETA: 1:09:4 - ETA: 1:09:1 - ETA: 1:09:0 - ETA: 1:08:5 - ETA: 1:08:4 - ETA: 1:08:2 - ETA: 1:08:0 - ETA: 1:07:5 - ETA: 1:07:3 - ETA: 1:07:2 - ETA: 1:07:1 - ETA: 1:06:5 - ETA: 1:06:4 - ETA: 1:06:2 - ETA: 1:06:1 - ETA: 1:05:5 - ETA: 1:05:4 - ETA: 1:05:3 - ETA: 1:05:1 - ETA: 1:05:0 - ETA: 1:04:4 - ETA: 1:04:3 - ETA: 1:04:2 - ETA: 1:04:1 - ETA: 1:03:5 - ETA: 1:03:4 - ETA: 1:03:2 - ETA: 1:03:1 - ETA: 1:02:5 - ETA: 1:02:4 - ETA: 1:02:2 - ETA: 1:02:1 - ETA: 1:01:5 - ETA: 1:01:4 - ETA: 1:01:3 - ETA: 1:01:1 - ETA: 1:01:0 - ETA: 1:00:4 - ETA: 1:00:3 - ETA: 1:00:2 - ETA: 1:00:0 - ETA: 59:53  - ETA: 59:3 - ETA: 59:2 - ETA: 59:1 - ETA: 58:5 - ETA: 58:4 - ETA: 58:2 - ETA: 58:1 - ETA: 58:0 - ETA: 57:4 - ETA: 57:3 - ETA: 57:2 - ETA: 57:0 - ETA: 56:5 - ETA: 56:3 - ETA: 56:2 - ETA: 56:1 - ETA: 55:5 - ETA: 55:4 - ETA: 55:3 - ETA: 55:1 - ETA: 55:0 - ETA: 54:5 - ETA: 54:4 - ETA: 54:3 - ETA: 54:1 - ETA: 54:0 - ETA: 53:5 - ETA: 53:3 - ETA: 53:2 - ETA: 53:1 - ETA: 52:5 - ETA: 52:4 - ETA: 52:3 - ETA: 52:1 - ETA: 52:0 - ETA: 51:4 - ETA: 51:3 - ETA: 51:2 - ETA: 51:0 - ETA: 50:5 - ETA: 50:4 - ETA: 50:2 - ETA: 50:1 - ETA: 50:0 - ETA: 49:4 - ETA: 49:3 - ETA: 49:2 - ETA: 49:0 - ETA: 48:5 - ETA: 48:4 - ETA: 48:2 - ETA: 48:1 - ETA: 48:0 - ETA: 47:4 - ETA: 47:3 - ETA: 47:2 - ETA: 47:0 - ETA: 46:5 - ETA: 46:4 - ETA: 46:2 - ETA: 46:1 - ETA: 45:5 - ETA: 45:4 - ETA: 45:3 - ETA: 45:1 - ETA: 45:0 - ETA: 44:5 - ETA: 44:3 - ETA: 44:2 - ETA: 44:1 - ETA: 43:5 - ETA: 43:4 - ETA: 43:2 - ETA: 43:1 - ETA: 43:0 - ETA: 42:4 - ETA: 42:3 - ETA: 42:2 - ETA: 42:0 - ETA: 41:5 - ETA: 41:4 - ETA: 41:2 - ETA: 41:1 - ETA: 40:5 - ETA: 40:4 - ETA: 40:3 - ETA: 40:2 - ETA: 40:0 - ETA: 39:5 - ETA: 39:3 - ETA: 39:2 - ETA: 39:1 - ETA: 38:5 - ETA: 38:4 - ETA: 38:3 - ETA: 38:1 - ETA: 38:0 - ETA: 37:5 - ETA: 37:3 - ETA: 37:2 - ETA: 37:1 - ETA: 36:5 - ETA: 36:4 - ETA: 36:3 - ETA: 36:1 - ETA: 36:0 - ETA: 35:4 - ETA: 35:3 - ETA: 35:2 - ETA: 35:0 - ETA: 34:5 - ETA: 34:4 - ETA: 34:2 - ETA: 34:1 - ETA: 34:0 - ETA: 33:4 - ETA: 33:3 - ETA: 33:2 - ETA: 33:0 - ETA: 32:5 - ETA: 32:4 - ETA: 32:2 - ETA: 32:1 - ETA: 31:5 - ETA: 31:4 - ETA: 31:3 - ETA: 31:1 - ETA: 31:0 - ETA: 30:5 - ETA: 30:3 - ETA: 30:2 - ETA: 30:1 - ETA: 29:5 - ETA: 29:4 - ETA: 29:3 - ETA: 29:1 - ETA: 29:0 - ETA: 28:5 - ETA: 28:3 - ETA: 28:2 - ETA: 28:0 - ETA: 27:5 - ETA: 27:4 - ETA: 27:2 - ETA: 27:1 - ETA: 27:0 - ETA: 26:4 - ETA: 26:3 - ETA: 26:2 - ETA: 26:0 - ETA: 25:5 - ETA: 25:4 - ETA: 25:2 - ETA: 25:1 - ETA: 25:0 - ETA: 24:4 - ETA: 24:3 - ETA: 24:2 - ETA: 24:0 - ETA: 23:5 - ETA: 23:4 - ETA: 23:2 - ETA: 23:1 - ETA: 22:5 - ETA: 22:4 - ETA: 22:3 - ETA: 22:1 - ETA: 22:0 - ETA: 21:5 - ETA: 21:3 - ETA: 21:2 - ETA: 21:1 - ETA: 20:5 - ETA: 20:4 - ETA: 20:3 - ETA: 20:1 - ETA: 20:0 - ETA: 19:5 - ETA: 19:3 - ETA: 19:2 - ETA: 19:1 - ETA: 18:5 - ETA: 18:4 - ETA: 18:3 - ETA: 18:1 - ETA: 18:0 - ETA: 17:5 - ETA: 17:3 - ETA: 17:2 - ETA: 17:0 - ETA: 16:5 - ETA: 16:4 - ETA: 16:2 - ETA: 16:1 - ETA: 16:0 - ETA: 15:4 - ETA: 15:3 - ETA: 15:2 - ETA: 15:0 - ETA: 14:5 - ETA: 14:4 - ETA: 14:2 - ETA: 14:1 - ETA: 14:0 - ETA: 13:4 - ETA: 13:3 - ETA: 13:2 - ETA: 13:0 - ETA: 12:5 - ETA: 12:4 - ETA: 12:2 - ETA: 12:1 - ETA: 12:0 - ETA: 11:4 - ETA: 11:3 - ETA: 11:1 - ETA: 11:0 - ETA: 10:5 - ETA: 10:3 - ETA: 10:2 - ETA: 10:1 - ETA: 9:5 - ETA: 9: - ETA: 9: - ETA: 9: - ETA: 9: - ETA: 8: - ETA: 8: - ETA: 8: - ETA: 8: - ETA: 7: - ETA: 7: - ETA: 7: - ETA: 7: - ETA: 7: - ETA: 6: - ETA: 6: - ETA: 6: - ETA: 6: - ETA: 5: - ETA: 5: - ETA: 5: - ETA: 5: - ETA: 5: - ETA: 4: - ETA: 4: - ETA: 4: - ETA: 4: - ETA: 3: - ETA: 3: - ETA: 3: - ETA: 3: - ETA: 3: - ETA: 2: - ETA: 2: - ETA: 2: - ETA: 2: - ETA: 1: - ETA: 1: - ETA: 1: - ETA: 1: - ETA: 1: - ETA: 47s - ETA: 33 - ETA: 20 - ETA: 6 - 4202s 420ms/step\n",
      "Create submission successfuly\n",
      "Finish!\n"
     ]
    }
   ],
   "source": [
    "# create xception submission .csv file\n",
    "img_rows, img_cols = 150, 150\n",
    "model_str = 'xception'\n",
    "model_name = 'xception-retrain-2018-05-26.hdf5'\n",
    "epochs = 10\n",
    "\n",
    "test_predict_and_submit(img_rows, img_cols, model_str, model_name, epochs)"
   ]
  },
  {
   "cell_type": "code",
   "execution_count": null,
   "metadata": {},
   "outputs": [],
   "source": []
  },
  {
   "cell_type": "code",
   "execution_count": null,
   "metadata": {},
   "outputs": [],
   "source": []
  }
 ],
 "metadata": {
  "kernelspec": {
   "display_name": "Python 3",
   "language": "python",
   "name": "python3"
  },
  "language_info": {
   "codemirror_mode": {
    "name": "ipython",
    "version": 3
   },
   "file_extension": ".py",
   "mimetype": "text/x-python",
   "name": "python",
   "nbconvert_exporter": "python",
   "pygments_lexer": "ipython3",
   "version": "3.6.3"
  }
 },
 "nbformat": 4,
 "nbformat_minor": 2
}
